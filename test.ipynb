from langchain.llms import ollama
ollama = ollama(base_url= 'http://localhost:11434',
                model = "USTC_CSE_Dept")
print(ollama("who are you"))